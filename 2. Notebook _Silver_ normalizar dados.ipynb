{
 "cells": [
  {
   "cell_type": "code",
   "execution_count": 0,
   "metadata": {
    "application/vnd.databricks.v1+cell": {
     "cellMetadata": {
      "byteLimit": 2048000,
      "rowLimit": 10000
     },
     "inputWidgets": {},
     "nuid": "461ad510-7fb2-4c58-b0ac-0e8c6f6a3f5e",
     "showTitle": false,
     "tableResultSettingsMap": {},
     "title": ""
    }
   },
   "outputs": [],
   "source": [
    "from pyspark.sql.types import *\n",
    "\n",
    "json_schema = StructType([\n",
    "    StructField(\"id\", StringType()),\n",
    "    StructField(\"name\", StringType()),\n",
    "    StructField(\"brewery_type\", StringType()),\n",
    "    StructField(\"city\", StringType()),\n",
    "    StructField(\"state\", StringType()),\n",
    "    StructField(\"country\", StringType()),\n",
    "    StructField(\"latitude\", StringType()),\n",
    "    StructField(\"longitude\", StringType()),\n",
    "    StructField(\"phone\", StringType()),\n",
    "    StructField(\"website_url\", StringType())\n",
    "])\n"
   ]
  },
  {
   "cell_type": "code",
   "execution_count": 0,
   "metadata": {
    "application/vnd.databricks.v1+cell": {
     "cellMetadata": {
      "byteLimit": 2048000,
      "rowLimit": 10000
     },
     "inputWidgets": {},
     "nuid": "e51e423f-c656-47c9-a955-9d0ea020a5ab",
     "showTitle": false,
     "tableResultSettingsMap": {},
     "title": ""
    }
   },
   "outputs": [],
   "source": [
    "from pyspark.sql.functions import from_json, col\n",
    "\n",
    "# Ativa catálogo/schema\n",
    "spark.sql(\"USE CATALOG projto_ambev\")\n",
    "spark.sql(\"USE SCHEMA silver\")\n",
    "\n",
    "# Lê os dados da bronze\n",
    "df_bronze = spark.read.table(\"projto_ambev.bronze.breweries_json\")\n",
    "\n",
    "# Converte o campo JSON bruto (string) para struct\n",
    "df_with_struct = df_bronze.withColumn(\"parsed\", from_json(col(\"raw_data\"), json_schema))\n",
    "\n",
    "# Seleciona os campos da struct\n",
    "df_silver = df_with_struct.select(\n",
    "    \"parsed.id\", \"parsed.name\", \"parsed.brewery_type\", \"parsed.city\",\n",
    "    \"parsed.state\", \"parsed.country\", \"parsed.latitude\", \"parsed.longitude\",\n",
    "    \"parsed.phone\", \"parsed.website_url\"\n",
    ")\n",
    "\n",
    "# Salva na camada silver\n",
    "df_silver.write.format(\"delta\") \\\n",
    "    .mode(\"overwrite\") \\\n",
    "    .saveAsTable(\"silver.breweries\")\n",
    "\n",
    "print(\"✅ Camada Silver criada com sucesso!\")\n"
   ]
  },
  {
   "cell_type": "code",
   "execution_count": 0,
   "metadata": {
    "application/vnd.databricks.v1+cell": {
     "cellMetadata": {},
     "inputWidgets": {},
     "nuid": "a348de61-c03d-4702-94df-96e3f5564207",
     "showTitle": false,
     "tableResultSettingsMap": {},
     "title": ""
    }
   },
   "outputs": [],
   "source": []
  }
 ],
 "metadata": {
  "application/vnd.databricks.v1+notebook": {
   "computePreferences": null,
   "dashboards": [],
   "environmentMetadata": {
    "base_environment": "",
    "environment_version": "3"
   },
   "inputWidgetPreferences": null,
   "language": "python",
   "notebookMetadata": {
    "mostRecentlyExecutedCommandWithImplicitDF": {
     "commandId": 5130708372940516,
     "dataframes": [
      "_sqldf"
     ]
    },
    "pythonIndentUnit": 4
   },
   "notebookName": "2. Notebook — Silver: normalizar dados",
   "widgets": {}
  },
  "language_info": {
   "name": "python"
  }
 },
 "nbformat": 4,
 "nbformat_minor": 0
}
